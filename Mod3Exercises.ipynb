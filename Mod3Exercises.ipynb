{
 "cells": [
  {
   "cell_type": "markdown",
   "metadata": {},
   "source": [
    "# Module 3 Exercises - Data Manipulation"
   ]
  },
  {
   "cell_type": "code",
   "execution_count": 38,
   "metadata": {
    "collapsed": true
   },
   "outputs": [],
   "source": [
    "import pandas as pd\n",
    "import numpy as np"
   ]
  },
  {
   "cell_type": "markdown",
   "metadata": {},
   "source": [
    "### Exercise 1:\n",
    "\n",
    "From the datasets folder, load in the \"dupedata.csv\" file as a dataframe. Drop the duplicates from the dataframe, keeping the first value (save the resulting dataframe to a new variable)."
   ]
  },
  {
   "cell_type": "code",
   "execution_count": 39,
   "metadata": {},
   "outputs": [],
   "source": [
    "location = \"datasets/dupedata.csv\"\n",
    "df = pd.read_csv(location)\n",
    "dupe = df.duplicated()\n",
    "duplicates = df[dupe].sort_values('fname')"
   ]
  },
  {
   "cell_type": "markdown",
   "metadata": {},
   "source": [
    "### Exercise 2:\n",
    "\n",
    "Using the dataframe in the previous exercise, select all the rows where students received a grade lower than 60 (they need a teacher conference on how to improve for the next test). "
   ]
  },
  {
   "cell_type": "code",
   "execution_count": 40,
   "metadata": {
    "scrolled": true
   },
   "outputs": [
    {
     "data": {
      "text/html": [
       "<div>\n",
       "<style>\n",
       "    .dataframe thead tr:only-child th {\n",
       "        text-align: right;\n",
       "    }\n",
       "\n",
       "    .dataframe thead th {\n",
       "        text-align: left;\n",
       "    }\n",
       "\n",
       "    .dataframe tbody tr th {\n",
       "        vertical-align: top;\n",
       "    }\n",
       "</style>\n",
       "<table border=\"1\" class=\"dataframe\">\n",
       "  <thead>\n",
       "    <tr style=\"text-align: right;\">\n",
       "      <th></th>\n",
       "      <th>fname</th>\n",
       "      <th>lname</th>\n",
       "      <th>gender</th>\n",
       "      <th>age</th>\n",
       "      <th>exercise</th>\n",
       "      <th>hours</th>\n",
       "      <th>grade</th>\n",
       "      <th>address</th>\n",
       "    </tr>\n",
       "  </thead>\n",
       "  <tbody>\n",
       "    <tr>\n",
       "      <th>340</th>\n",
       "      <td>Abbot</td>\n",
       "      <td>Hall</td>\n",
       "      <td>male</td>\n",
       "      <td>16</td>\n",
       "      <td>4</td>\n",
       "      <td>3</td>\n",
       "      <td>58.9</td>\n",
       "      <td>84 Rock Creek Lane, Durham, NC 27703</td>\n",
       "    </tr>\n",
       "    <tr>\n",
       "      <th>410</th>\n",
       "      <td>Linda</td>\n",
       "      <td>Baldwin</td>\n",
       "      <td>female</td>\n",
       "      <td>16</td>\n",
       "      <td>5</td>\n",
       "      <td>2</td>\n",
       "      <td>59.0</td>\n",
       "      <td>970 SW. Second Ave., Cedar Falls, IA 50613</td>\n",
       "    </tr>\n",
       "    <tr>\n",
       "      <th>556</th>\n",
       "      <td>Lacey</td>\n",
       "      <td>Nieves</td>\n",
       "      <td>female</td>\n",
       "      <td>18</td>\n",
       "      <td>1</td>\n",
       "      <td>2</td>\n",
       "      <td>57.9</td>\n",
       "      <td>38 West Brickyard Avenue, Roslindale, MA 02131</td>\n",
       "    </tr>\n",
       "    <tr>\n",
       "      <th>664</th>\n",
       "      <td>Alika</td>\n",
       "      <td>Poole</td>\n",
       "      <td>female</td>\n",
       "      <td>19</td>\n",
       "      <td>2</td>\n",
       "      <td>16</td>\n",
       "      <td>32.0</td>\n",
       "      <td>9282 Purple Finch Lane, Lexington, NC 27292</td>\n",
       "    </tr>\n",
       "    <tr>\n",
       "      <th>672</th>\n",
       "      <td>Ciaran</td>\n",
       "      <td>Gay</td>\n",
       "      <td>male</td>\n",
       "      <td>19</td>\n",
       "      <td>4</td>\n",
       "      <td>3</td>\n",
       "      <td>59.3</td>\n",
       "      <td>157 Bridge Street, Corona, NY 11368</td>\n",
       "    </tr>\n",
       "    <tr>\n",
       "      <th>700</th>\n",
       "      <td>Steven</td>\n",
       "      <td>Sherman</td>\n",
       "      <td>male</td>\n",
       "      <td>18</td>\n",
       "      <td>1</td>\n",
       "      <td>2</td>\n",
       "      <td>60.0</td>\n",
       "      <td>8029 Depot Street, Port Charlotte, FL 33952</td>\n",
       "    </tr>\n",
       "    <tr>\n",
       "      <th>972</th>\n",
       "      <td>Keegan</td>\n",
       "      <td>Rasmussen</td>\n",
       "      <td>male</td>\n",
       "      <td>19</td>\n",
       "      <td>4</td>\n",
       "      <td>3</td>\n",
       "      <td>43.0</td>\n",
       "      <td>876 East Pilgrim Street, Chelmsford, MA 01824</td>\n",
       "    </tr>\n",
       "    <tr>\n",
       "      <th>1068</th>\n",
       "      <td>Isaiah</td>\n",
       "      <td>Harrington</td>\n",
       "      <td>male</td>\n",
       "      <td>17</td>\n",
       "      <td>1</td>\n",
       "      <td>4</td>\n",
       "      <td>58.9</td>\n",
       "      <td>47 Mill Pond St., Haines City, FL 33844</td>\n",
       "    </tr>\n",
       "    <tr>\n",
       "      <th>1207</th>\n",
       "      <td>Selma</td>\n",
       "      <td>Stout</td>\n",
       "      <td>female</td>\n",
       "      <td>19</td>\n",
       "      <td>2</td>\n",
       "      <td>3</td>\n",
       "      <td>59.4</td>\n",
       "      <td>5 Pierce St., Chester, PA 19013</td>\n",
       "    </tr>\n",
       "    <tr>\n",
       "      <th>1237</th>\n",
       "      <td>Willa</td>\n",
       "      <td>Byers</td>\n",
       "      <td>female</td>\n",
       "      <td>14</td>\n",
       "      <td>2</td>\n",
       "      <td>4</td>\n",
       "      <td>59.2</td>\n",
       "      <td>9466 Wayne Lane, Torrington, CT 06790</td>\n",
       "    </tr>\n",
       "    <tr>\n",
       "      <th>1494</th>\n",
       "      <td>Jenna</td>\n",
       "      <td>Wagner</td>\n",
       "      <td>female</td>\n",
       "      <td>16</td>\n",
       "      <td>1</td>\n",
       "      <td>3</td>\n",
       "      <td>56.3</td>\n",
       "      <td>8829 Shore Dr., Hopewell Junction, NY 12533</td>\n",
       "    </tr>\n",
       "    <tr>\n",
       "      <th>1876</th>\n",
       "      <td>Levi</td>\n",
       "      <td>Coleman</td>\n",
       "      <td>male</td>\n",
       "      <td>19</td>\n",
       "      <td>3</td>\n",
       "      <td>3</td>\n",
       "      <td>55.9</td>\n",
       "      <td>9453 Laurel Street, Jersey City, NJ 07302</td>\n",
       "    </tr>\n",
       "    <tr>\n",
       "      <th>1888</th>\n",
       "      <td>Fitzgerald</td>\n",
       "      <td>Goff</td>\n",
       "      <td>male</td>\n",
       "      <td>18</td>\n",
       "      <td>1</td>\n",
       "      <td>4</td>\n",
       "      <td>59.8</td>\n",
       "      <td>3 West Shipley Rd., Langhorne, PA 19047</td>\n",
       "    </tr>\n",
       "    <tr>\n",
       "      <th>1916</th>\n",
       "      <td>Gail</td>\n",
       "      <td>Mcneil</td>\n",
       "      <td>female</td>\n",
       "      <td>17</td>\n",
       "      <td>2</td>\n",
       "      <td>3</td>\n",
       "      <td>56.1</td>\n",
       "      <td>8409A Spruce St., Fishers, IN 46037</td>\n",
       "    </tr>\n",
       "    <tr>\n",
       "      <th>1930</th>\n",
       "      <td>Xanthus</td>\n",
       "      <td>Mcneil</td>\n",
       "      <td>male</td>\n",
       "      <td>16</td>\n",
       "      <td>3</td>\n",
       "      <td>4</td>\n",
       "      <td>59.8</td>\n",
       "      <td>226 Redwood Lane, Boynton Beach, FL 33435</td>\n",
       "    </tr>\n",
       "  </tbody>\n",
       "</table>\n",
       "</div>"
      ],
      "text/plain": [
       "           fname       lname  gender  age  exercise  hours  grade  \\\n",
       "340        Abbot        Hall    male   16         4      3   58.9   \n",
       "410        Linda     Baldwin  female   16         5      2   59.0   \n",
       "556        Lacey      Nieves  female   18         1      2   57.9   \n",
       "664        Alika       Poole  female   19         2     16   32.0   \n",
       "672       Ciaran         Gay    male   19         4      3   59.3   \n",
       "700       Steven     Sherman    male   18         1      2   60.0   \n",
       "972       Keegan   Rasmussen    male   19         4      3   43.0   \n",
       "1068      Isaiah  Harrington    male   17         1      4   58.9   \n",
       "1207       Selma       Stout  female   19         2      3   59.4   \n",
       "1237       Willa       Byers  female   14         2      4   59.2   \n",
       "1494       Jenna      Wagner  female   16         1      3   56.3   \n",
       "1876        Levi     Coleman    male   19         3      3   55.9   \n",
       "1888  Fitzgerald        Goff    male   18         1      4   59.8   \n",
       "1916        Gail      Mcneil  female   17         2      3   56.1   \n",
       "1930     Xanthus      Mcneil    male   16         3      4   59.8   \n",
       "\n",
       "                                             address  \n",
       "340             84 Rock Creek Lane, Durham, NC 27703  \n",
       "410       970 SW. Second Ave., Cedar Falls, IA 50613  \n",
       "556   38 West Brickyard Avenue, Roslindale, MA 02131  \n",
       "664      9282 Purple Finch Lane, Lexington, NC 27292  \n",
       "672              157 Bridge Street, Corona, NY 11368  \n",
       "700      8029 Depot Street, Port Charlotte, FL 33952  \n",
       "972    876 East Pilgrim Street, Chelmsford, MA 01824  \n",
       "1068         47 Mill Pond St., Haines City, FL 33844  \n",
       "1207                 5 Pierce St., Chester, PA 19013  \n",
       "1237           9466 Wayne Lane, Torrington, CT 06790  \n",
       "1494     8829 Shore Dr., Hopewell Junction, NY 12533  \n",
       "1876       9453 Laurel Street, Jersey City, NJ 07302  \n",
       "1888         3 West Shipley Rd., Langhorne, PA 19047  \n",
       "1916             8409A Spruce St., Fishers, IN 46037  \n",
       "1930       226 Redwood Lane, Boynton Beach, FL 33435  "
      ]
     },
     "execution_count": 40,
     "metadata": {},
     "output_type": "execute_result"
    }
   ],
   "source": [
    "df.loc[df['grade'] <= 60]"
   ]
  },
  {
   "cell_type": "markdown",
   "metadata": {},
   "source": [
    "### Exercise 3:\n",
    "\n",
    "Using the dataframe from Exercise 1, select all the rows where a student received a grade of 100 and change their grade to 103 (extra credit!). "
   ]
  },
  {
   "cell_type": "code",
   "execution_count": 41,
   "metadata": {},
   "outputs": [
    {
     "name": "stderr",
     "output_type": "stream",
     "text": [
      "C:\\ProgramData\\Anaconda3\\lib\\site-packages\\ipykernel_launcher.py:3: SettingWithCopyWarning: \n",
      "A value is trying to be set on a copy of a slice from a DataFrame.\n",
      "Try using .loc[row_indexer,col_indexer] = value instead\n",
      "\n",
      "See the caveats in the documentation: http://pandas.pydata.org/pandas-docs/stable/indexing.html#indexing-view-versus-copy\n",
      "  This is separate from the ipykernel package so we can avoid doing imports until\n"
     ]
    }
   ],
   "source": [
    "#df.loc[df['grade'] == 100]\n",
    "res=df.loc[df['grade'] == 100]\n",
    "res['grade'] = 103"
   ]
  },
  {
   "cell_type": "markdown",
   "metadata": {},
   "source": [
    "### Exercise 4:\n",
    "\n",
    "Load in the \"travel_times.csv\" file as a dataframe. Drop the \"Comments\" column. Then remove rows from the dataframe that have missing values and assign the resulting dataframe as a new variable."
   ]
  },
  {
   "cell_type": "code",
   "execution_count": null,
   "metadata": {
    "collapsed": true
   },
   "outputs": [],
   "source": []
  },
  {
   "cell_type": "markdown",
   "metadata": {},
   "source": [
    "### Exercise 5:\n",
    "\n",
    "Using the dataframe from the exercise above (w/ no missing values), create bins that will categorize the AvgSpeed column as \"slow\" or \"fast\", and make a new column called \"Speed\" to hold those new values. Values less than 75 are \"slow\" and everything above is \"fast\"."
   ]
  },
  {
   "cell_type": "code",
   "execution_count": null,
   "metadata": {
    "collapsed": true
   },
   "outputs": [],
   "source": []
  },
  {
   "cell_type": "markdown",
   "metadata": {},
   "source": [
    "### Exercise 6:\n",
    "\n",
    "Using the dataframe in the previous exercise, make a new column called \"Police\" which is equal to all the values being \"no\" (they were never stopped by police for speeding while traveling)."
   ]
  },
  {
   "cell_type": "code",
   "execution_count": null,
   "metadata": {
    "collapsed": true
   },
   "outputs": [],
   "source": []
  },
  {
   "cell_type": "markdown",
   "metadata": {},
   "source": [
    "### Exercise 7:\n",
    "\n",
    "Using the dataframe from the previous exercise, pick a method (Standard Deviation or Interquartile Range) and remove the outliers from the \"FuelEconomy\" column."
   ]
  },
  {
   "cell_type": "code",
   "execution_count": null,
   "metadata": {
    "collapsed": true
   },
   "outputs": [],
   "source": []
  }
 ],
 "metadata": {
  "kernelspec": {
   "display_name": "Python 3",
   "language": "python",
   "name": "python3"
  },
  "language_info": {
   "codemirror_mode": {
    "name": "ipython",
    "version": 3
   },
   "file_extension": ".py",
   "mimetype": "text/x-python",
   "name": "python",
   "nbconvert_exporter": "python",
   "pygments_lexer": "ipython3",
   "version": "3.6.3"
  }
 },
 "nbformat": 4,
 "nbformat_minor": 2
}
