{
 "cells": [
  {
   "cell_type": "markdown",
   "metadata": {},
   "source": [
    "# Module 5 Exercises - Time Series"
   ]
  },
  {
   "cell_type": "code",
   "execution_count": 24,
   "metadata": {
    "collapsed": true
   },
   "outputs": [],
   "source": [
    "import pandas as pd\n",
    "import numpy as np\n",
    "import seaborn; seaborn.set()\n",
    "import matplotlib.pyplot as plt\n",
    "\n",
    "from datetime import datetime\n",
    "\n",
    "%matplotlib inline"
   ]
  },
  {
   "cell_type": "markdown",
   "metadata": {},
   "source": [
    "### Exercise 1:\n",
    "\n",
    "Create a numPy datetime variable with today's date. Then create 7 consectuive days (1 week) starting from the variable with today's date."
   ]
  },
  {
   "cell_type": "code",
   "execution_count": 25,
   "metadata": {},
   "outputs": [
    {
     "data": {
      "text/plain": [
       "array(['2019-03-20', '2019-03-21', '2019-03-22', '2019-03-23',\n",
       "       '2019-03-24', '2019-03-25', '2019-03-26'], dtype='datetime64[D]')"
      ]
     },
     "execution_count": 25,
     "metadata": {},
     "output_type": "execute_result"
    }
   ],
   "source": [
    "today = np.datetime64('today') # today's date\n",
    "today + np.arange(7)"
   ]
  },
  {
   "cell_type": "markdown",
   "metadata": {},
   "source": [
    "### Exercise 2:\n",
    "\n",
    "Create a pandas datetime index with the dates 2016-02-11, 2016-07-01, 2016-07-09, 2016-10-08, 2017-02-18, 2017-02-25, 2017-05-02, 2017-08-26, 2017-12-15, and 2018-02-11. Then create a pandas Series with the values 0,1,2,3,4,5,6,7,8, and 9 in a list, with the dates as the index. Get the rows from the year 2017.  "
   ]
  },
  {
   "cell_type": "code",
   "execution_count": 26,
   "metadata": {},
   "outputs": [
    {
     "data": {
      "text/plain": [
       "2017-02-18    4\n",
       "2017-02-25    5\n",
       "2017-05-02    6\n",
       "2017-08-26    7\n",
       "2017-12-15    8\n",
       "dtype: int64"
      ]
     },
     "execution_count": 26,
     "metadata": {},
     "output_type": "execute_result"
    }
   ],
   "source": [
    "index = pd.DatetimeIndex(['2016-02-11', '2016-07-01', '2016-07-09', '2016-10-08', '2017-02-18',\n",
    "                         '2017-02-25', '2017-05-02', '2017-08-26', '2017-12-15', '2018-02-11'])\n",
    "data = pd.Series([ 0,1,2,3,4,5,6,7,8,9], index=index)\n",
    "data['2017']"
   ]
  },
  {
   "cell_type": "markdown",
   "metadata": {},
   "source": [
    "### Exercise 3:\n",
    "\n",
    "Convert the following date formats into pandas datetime:\n",
    "\n",
    "- datetime(2017, 12, 15)\n",
    "- 8th of October 2016\n",
    "- 20180211\n",
    "- 2017-02-25\n",
    "- 2019-Jan-16"
   ]
  },
  {
   "cell_type": "code",
   "execution_count": 27,
   "metadata": {},
   "outputs": [
    {
     "data": {
      "text/plain": [
       "DatetimeIndex(['2017-12-15', '2016-10-08', '2018-02-11', '2017-02-25',\n",
       "               '2019-01-16'],\n",
       "              dtype='datetime64[ns]', freq=None)"
      ]
     },
     "execution_count": 27,
     "metadata": {},
     "output_type": "execute_result"
    }
   ],
   "source": [
    "dates = pd.to_datetime([datetime(2017, 12, 15), '8th of October 2016', \n",
    "                      '20180211', '2017-02-25', '2019-Jan-16'])\n",
    "dates"
   ]
  },
  {
   "cell_type": "markdown",
   "metadata": {},
   "source": [
    "### Exercise 4:\n",
    "\n",
    "Using the pandas library, make a time delta range that has five periods with a 1 hour 45 minute interval."
   ]
  },
  {
   "cell_type": "code",
   "execution_count": 28,
   "metadata": {},
   "outputs": [
    {
     "data": {
      "text/plain": [
       "TimedeltaIndex(['00:00:00', '01:45:00', '03:30:00', '05:15:00', '07:00:00'], dtype='timedelta64[ns]', freq='105T')"
      ]
     },
     "execution_count": 28,
     "metadata": {},
     "output_type": "execute_result"
    }
   ],
   "source": [
    "pd.timedelta_range(0, periods=5, freq='1H45T')"
   ]
  },
  {
   "cell_type": "markdown",
   "metadata": {},
   "source": [
    "### Exercise 5:\n",
    "\n",
    "Using the pandas library, create a time delta range with 20 business days starting from today's date."
   ]
  },
  {
   "cell_type": "code",
   "execution_count": 50,
   "metadata": {},
   "outputs": [
    {
     "data": {
      "text/plain": [
       "DatetimeIndex(['2019-03-20', '2019-03-21', '2019-03-22', '2019-03-23',\n",
       "               '2019-03-24', '2019-03-25', '2019-03-26', '2019-03-27',\n",
       "               '2019-03-28', '2019-03-29', '2019-03-30', '2019-03-31',\n",
       "               '2019-04-01', '2019-04-02', '2019-04-03', '2019-04-04',\n",
       "               '2019-04-05', '2019-04-06', '2019-04-07', '2019-04-08'],\n",
       "              dtype='datetime64[ns]', freq=None)"
      ]
     },
     "execution_count": 50,
     "metadata": {},
     "output_type": "execute_result"
    }
   ],
   "source": [
    "date = pd.to_datetime(np.datetime_as_string(today))\n",
    "date + pd.to_timedelta(np.arange(20), 'D')"
   ]
  },
  {
   "cell_type": "markdown",
   "metadata": {},
   "source": [
    "### Exercise 6:\n",
    "\n",
    "From [this link](https://notebooks.azure.com/priesterkc/projects/DABmaterial/tree/Lv1%20Data%20Analytics/datasets), download the \"smalltravel.csv\" file and upload it to your datasets folder. Import the traveltime_s.csv file into a dataframe. Resample the average speed column by week using the mean, and plot the graph. \n",
    "\n",
    "**Tip**: You do not need to add the line style in the plot code."
   ]
  },
  {
   "cell_type": "code",
   "execution_count": 65,
   "metadata": {},
   "outputs": [
    {
     "data": {
      "text/html": [
       "<div>\n",
       "<style>\n",
       "    .dataframe thead tr:only-child th {\n",
       "        text-align: right;\n",
       "    }\n",
       "\n",
       "    .dataframe thead th {\n",
       "        text-align: left;\n",
       "    }\n",
       "\n",
       "    .dataframe tbody tr th {\n",
       "        vertical-align: top;\n",
       "    }\n",
       "</style>\n",
       "<table border=\"1\" class=\"dataframe\">\n",
       "  <thead>\n",
       "    <tr style=\"text-align: right;\">\n",
       "      <th></th>\n",
       "      <th>AvgSpeed</th>\n",
       "      <th>MovingTime</th>\n",
       "    </tr>\n",
       "  </thead>\n",
       "  <tbody>\n",
       "    <tr>\n",
       "      <th>count</th>\n",
       "      <td>205.000000</td>\n",
       "      <td>205.000000</td>\n",
       "    </tr>\n",
       "    <tr>\n",
       "      <th>mean</th>\n",
       "      <td>74.477561</td>\n",
       "      <td>37.871707</td>\n",
       "    </tr>\n",
       "    <tr>\n",
       "      <th>std</th>\n",
       "      <td>11.409816</td>\n",
       "      <td>4.835072</td>\n",
       "    </tr>\n",
       "    <tr>\n",
       "      <th>min</th>\n",
       "      <td>38.100000</td>\n",
       "      <td>27.100000</td>\n",
       "    </tr>\n",
       "    <tr>\n",
       "      <th>25%</th>\n",
       "      <td>68.900000</td>\n",
       "      <td>35.700000</td>\n",
       "    </tr>\n",
       "    <tr>\n",
       "      <th>50%</th>\n",
       "      <td>73.600000</td>\n",
       "      <td>37.600000</td>\n",
       "    </tr>\n",
       "    <tr>\n",
       "      <th>75%</th>\n",
       "      <td>79.900000</td>\n",
       "      <td>39.900000</td>\n",
       "    </tr>\n",
       "    <tr>\n",
       "      <th>max</th>\n",
       "      <td>107.700000</td>\n",
       "      <td>62.400000</td>\n",
       "    </tr>\n",
       "  </tbody>\n",
       "</table>\n",
       "</div>"
      ],
      "text/plain": [
       "         AvgSpeed  MovingTime\n",
       "count  205.000000  205.000000\n",
       "mean    74.477561   37.871707\n",
       "std     11.409816    4.835072\n",
       "min     38.100000   27.100000\n",
       "25%     68.900000   35.700000\n",
       "50%     73.600000   37.600000\n",
       "75%     79.900000   39.900000\n",
       "max    107.700000   62.400000"
      ]
     },
     "execution_count": 65,
     "metadata": {},
     "output_type": "execute_result"
    }
   ],
   "source": [
    "location = \"datasets/datasets_smalltravel.csv\"\n",
    "df = pd.read_csv(location, index_col=\"Date\", parse_dates=True)\n",
    "#df.head()\n",
    "#df.dtypes\n",
    "#df.plot()\n",
    "df.describe()\n",
    "#weekly = df.resample('W').mean()\n",
    "#weekly\n",
    "#weekly.plot(style=[':', '--', '-'])\n",
    "#plt.ylabel('Weekly Average Speed')\n"
   ]
  },
  {
   "cell_type": "markdown",
   "metadata": {},
   "source": [
    "### Exercise 7:\n",
    "\n",
    "Using the dataframe from the previous exercise, write code to group the moving time column by day of the week, then plot the graph.\n",
    "\n",
    "**Tip**: The index list only needs to contain the weekdays. You do not need to add the line style in the plot code."
   ]
  },
  {
   "cell_type": "code",
   "execution_count": null,
   "metadata": {
    "collapsed": true
   },
   "outputs": [],
   "source": []
  }
 ],
 "metadata": {
  "kernelspec": {
   "display_name": "Python 3",
   "language": "python",
   "name": "python3"
  },
  "language_info": {
   "codemirror_mode": {
    "name": "ipython",
    "version": 3
   },
   "file_extension": ".py",
   "mimetype": "text/x-python",
   "name": "python",
   "nbconvert_exporter": "python",
   "pygments_lexer": "ipython3",
   "version": "3.6.3"
  }
 },
 "nbformat": 4,
 "nbformat_minor": 2
}
