{
 "cells": [
  {
   "cell_type": "markdown",
   "metadata": {},
   "source": [
    "# Module 1 Exercises - Basic Python"
   ]
  },
  {
   "cell_type": "markdown",
   "metadata": {},
   "source": [
    "### Exercise 1:\n",
    "Create a variable that has an int value and another variable that has a float value. Write code that prints the product (multiply the two variables together).\n",
    "\n",
    "*Hint*: To multiply numbers in Python, use the asterisk sign (*). "
   ]
  },
  {
   "cell_type": "code",
   "execution_count": 7,
   "metadata": {},
   "outputs": [
    {
     "name": "stdout",
     "output_type": "stream",
     "text": [
      "π multiplied by the answer to life (42) = 131.94689145077132\n"
     ]
    }
   ],
   "source": [
    "from math import pi\n",
    "import unicodedata\n",
    "\n",
    "\n",
    "# Multiplies pi by the answer to life according to \"Hitchhiker's Guide to the galaxy\".\n",
    "the_pi_value = pi\n",
    "the_answer_to_life = 42\n",
    "pi_symbol = unicodedata.lookup(\"GREEK SMALL LETTER PI\")\n",
    "print(pi_symbol + \" multiplied by the answer to life (42) =\", the_pi_value * the_answer_to_life)"
   ]
  },
  {
   "cell_type": "markdown",
   "metadata": {},
   "source": [
    "### Exercise 2:\n",
    "\n",
    "Make a list of all the months in the year. Write code that uses a loop to go through the list, print out the month and the number of characters (length) for each month word."
   ]
  },
  {
   "cell_type": "code",
   "execution_count": 8,
   "metadata": {},
   "outputs": [
    {
     "name": "stdout",
     "output_type": "stream",
     "text": [
      "January 7\n",
      "February 8\n",
      "March 5\n",
      "April 5\n",
      "May 3\n",
      "June 4\n",
      "July 4\n",
      "August 6\n",
      "September 9\n",
      "October 7\n",
      "November 8\n",
      "December 8\n"
     ]
    }
   ],
   "source": [
    "# Months of the year.\n",
    "months = ['January', 'February', 'March', 'April', 'May', 'June', 'July', 'August', 'September', 'October', 'November', 'December']\n",
    "\n",
    "# Print each month and length\n",
    "for month in months:\n",
    "    print(month, len(month))"
   ]
  },
  {
   "cell_type": "markdown",
   "metadata": {},
   "source": [
    "### Exercise 3:\n",
    "Create a dictionary with keys \"movie\" and \"season\", with the values being your favorite movie and season. Then write code to print out \"My favorite [key] is [value]\"."
   ]
  },
  {
   "cell_type": "code",
   "execution_count": null,
   "metadata": {
    "collapsed": true
   },
   "outputs": [],
   "source": [
    "spring = 'Captain Marvel'\n",
    "summer = 'Detective Pikachu'\n",
    "fall = 'Avenger: Endgame'\n",
    "winter = 'Star Wars '\n",
    "movies_by_season = {'Captain Marvel' : 'Spring', 'Detective Pikachu' : 'Summer', 'Avenger: Endgame' : 'Fall', 'Star Wars: Episode 6', 'Winter'}\n",
    "print(\"My favorite\", )"
   ]
  },
  {
   "cell_type": "markdown",
   "metadata": {},
   "source": [
    "### Exercise 4:\n",
    "Create a customized function (def) that divides two variables and returns the result of their division. Then call your function using the variables you made in Exercise 1. \n",
    "\n",
    "*Hint*: To divide numbers in Python, use the forward slash (/)."
   ]
  },
  {
   "cell_type": "code",
   "execution_count": null,
   "metadata": {
    "collapsed": true
   },
   "outputs": [],
   "source": []
  }
 ],
 "metadata": {
  "kernelspec": {
   "display_name": "Python 3",
   "language": "python",
   "name": "python3"
  },
  "language_info": {
   "codemirror_mode": {
    "name": "ipython",
    "version": 3
   },
   "file_extension": ".py",
   "mimetype": "text/x-python",
   "name": "python",
   "nbconvert_exporter": "python",
   "pygments_lexer": "ipython3",
   "version": "3.6.3"
  }
 },
 "nbformat": 4,
 "nbformat_minor": 2
}
